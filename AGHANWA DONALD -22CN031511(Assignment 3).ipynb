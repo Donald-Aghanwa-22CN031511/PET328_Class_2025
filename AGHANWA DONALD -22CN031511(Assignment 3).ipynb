{
 "cells": [
  {
   "cell_type": "markdown",
   "id": "c3e87412",
   "metadata": {},
   "source": [
    "## A script to classify and count 'active' and 'inactive' gridblocks in a discretized reservoir"
   ]
  },
  {
   "cell_type": "code",
   "execution_count": null,
   "id": "a53afb20",
   "metadata": {},
   "outputs": [],
   "source": [
    "#################### Task 1 ############################\n",
    "    # Request for reservoir dimensions and discretization parameters\n",
    "\n",
    "Lz = float(input('What is the Length of the reservoir in the x-direction?'))\n",
    "Ly = float(input('What is the length of the reservoir in the y-direction?'))\n",
    "Lz = float(input('What is the length of the reservoir in the z-direction?'))\n",
    "nx = int(input('What is the number of blocks in the x-axis?'))\n",
    "ny = int(input('What is the number of blocks in the y-axis?'))\n",
    "nz = int(input('What is the number of blocks in the z-axis?'))"
   ]
  },
  {
   "cell_type": "code",
   "execution_count": null,
   "id": "559de93e",
   "metadata": {},
   "outputs": [],
   "source": [
    "\n",
    "\n",
    "#################### Task 2 ############################\n",
    "    # Request for the cut-off value\n",
    "cut_off = float(input('What is the permeability cut off value?\\n'))"
   ]
  },
  {
   "cell_type": "code",
   "execution_count": null,
   "id": "81bee451",
   "metadata": {},
   "outputs": [],
   "source": [
    "#################### Task 3 ############################\n",
    "    # Initialize counters\n",
    "\n",
    "act_counter = 0\n",
    "inact_counter = 0"
   ]
  },
  {
   "cell_type": "code",
   "execution_count": null,
   "id": "b36102eb-a1b8-4897-b25f-6521769fd9e0",
   "metadata": {},
   "outputs": [],
   "source": [
    "### Task 4 ############################\n",
    "    # Loop through all blocks (nested loop)\n",
    "for k in range(1, nz+1):\n",
    "    # Initialize layer counter\n",
    "    active_counter = 0\n",
    "    inactive_counter = 0\n",
    "    # two nested loops go here\n",
    "    for j in range(1, ny+1):\n",
    "        for i in range(1, nx + 1):\n",
    "            n_order = ( i + ((j - 1) * nx)) + ((k - 1) * nx * ny)\n",
    "            perm = float(input(f'\\nWhat is the permeability value for gridblock {n_order}?\\n'))\n",
    "            if perm < cut_off:\n",
    "                inactive_counter = inactive_counter + 1\n",
    "                inact_counter = inact_counter + 1\n",
    "                print(f'Gridblock {n_order} is inactive')\n",
    "            else:\n",
    "                active_counter = active_counter + 1\n",
    "                act_counter = act_counter + 1\n",
    "                print(f'Gridblock {n_order} is active')\n",
    "        \n",
    "    # Print layer count\n",
    "    print(f'\\nThe amount of active gridblocks are {active_counter} in layer {k}.\\n')\n",
    "    print(f'The amount of inactive gridblocks are {inactive_counter} in layer {k}.\\n')\n",
    "\n"
   ]
  },
  {
   "cell_type": "code",
   "execution_count": null,
   "id": "ec00ce2a",
   "metadata": {},
   "outputs": [],
   "source": [
    "#################### Task 5 ############################\n",
    "    # Print overall counts\n",
    "\n",
    "# Print 'active'\n",
    "print(f'The amount of active gridblocks are {act_counter} in the reservoir.\\n')\n",
    "\n",
    "# Print 'inactive'\n",
    "print(f'The amount of inactive gridblocks are {inact_counter} in the reservoir\\n.')\n"
   ]
  },
  {
   "cell_type": "code",
   "execution_count": null,
   "id": "473f653e-bbe2-42cd-b50d-1601763de11a",
   "metadata": {},
   "outputs": [],
   "source": []
  },
  {
   "cell_type": "code",
   "execution_count": null,
   "id": "dada63b4-6fd4-4850-8c30-769088ca643b",
   "metadata": {},
   "outputs": [],
   "source": []
  }
 ],
 "metadata": {
  "kernelspec": {
   "display_name": "Python [conda env:base] *",
   "language": "python",
   "name": "conda-base-py"
  },
  "language_info": {
   "codemirror_mode": {
    "name": "ipython",
    "version": 3
   },
   "file_extension": ".py",
   "mimetype": "text/x-python",
   "name": "python",
   "nbconvert_exporter": "python",
   "pygments_lexer": "ipython3",
   "version": "3.12.7"
  }
 },
 "nbformat": 4,
 "nbformat_minor": 5
}
